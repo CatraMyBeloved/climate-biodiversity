{
 "cells": [
  {
   "cell_type": "code",
   "execution_count": 28,
   "metadata": {},
   "outputs": [],
   "source": [
    "import xarray as xr\n",
    "import numpy as np\n",
    "import zipfile\n",
    "import matplotlib.pyplot as plt\n",
    "    \n",
    "temperature_data = xr.open_dataset(\"../data/extracted/temperature.nc\")[\"t2m\"]\n",
    "precipitation_data = xr.open_dataset(\"../data/extracted/precipitation.nc\")[\"tp\"]\n",
    "\n",
    "time_coord = temperature_data.coords[\"valid_time\"]\n",
    "precipitation_data.coords[\"valid_time\"] = time_coord\n",
    "\n",
    "combined_data = xr.merge([temperature_data, precipitation_data])"
   ]
  },
  {
   "cell_type": "code",
   "execution_count": 29,
   "metadata": {},
   "outputs": [
    {
     "name": "stdout",
     "output_type": "stream",
     "text": []
    }
   ],
   "source": [
    "combined_data.valid_time"
   ]
  },
  {
   "cell_type": "code",
   "execution_count": 41,
   "metadata": {},
   "outputs": [
    {
     "name": "stdout",
     "output_type": "stream",
     "text": []
    }
   ],
   "source": [
    "combined_data.sel(valid_time=\"2019-01-01\")[\"t2m\"].plot()\n",
    "plt.show()"
   ]
  }
 ],
 "metadata": {
  "kernelspec": {
   "display_name": ".venv",
   "language": "python",
   "name": "python3"
  },
  "language_info": {
   "codemirror_mode": {
    "name": "ipython",
    "version": 3
   },
   "file_extension": ".py",
   "mimetype": "text/x-python",
   "name": "python",
   "nbconvert_exporter": "python",
   "pygments_lexer": "ipython3",
   "version": "3.13.1"
  }
 },
 "nbformat": 4,
 "nbformat_minor": 2
}
